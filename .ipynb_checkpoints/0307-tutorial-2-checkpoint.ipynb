{
 "cells": [
  {
   "cell_type": "code",
   "execution_count": 3,
   "metadata": {},
   "outputs": [
    {
     "name": "stdout",
     "output_type": "stream",
     "text": [
      "Leo Hello~~~\n",
      "L\n",
      "e\n",
      "o\n",
      "Hello~\n",
      "ell\n",
      "--------------------------------------------------------------------------------\n",
      "LeoHello~~~\n",
      "Leo Hello~~~\n",
      "Good afternoon\n"
     ]
    }
   ],
   "source": [
    "### 資料型別-2\n",
    "\n",
    "## str\n",
    "\n",
    "name2 = \"Leo\"\n",
    "message2 = \"Hello~~~\"\n",
    "message3 = 'Good afternoon' \n",
    "\n",
    "print(name2,message2)\n",
    "\n",
    "# index\n",
    "print( name2[0] )\n",
    "print( name2[1] )\n",
    "print( name2[2] )\n",
    "\n",
    "print( message2[0:6] )\n",
    "print( message2[1:4] )\n",
    "\n",
    "print(\"-\"*80)\n",
    "\n",
    "# + \n",
    "print( name2 + message2 )\n",
    "print( name2 + \" \" + message2)\n",
    "\n",
    "print(message3)"
   ]
  },
  {
   "cell_type": "code",
   "execution_count": 54,
   "metadata": {},
   "outputs": [
    {
     "name": "stdout",
     "output_type": "stream",
     "text": [
      "Leo , says Hi\n",
      "今天星期六\n",
      "今天星期日\n",
      "最近 武漢肺炎 大爆發 , 應該要 勤洗手\n",
      "最近 123 大爆發 , 應該要 多喝酒\n",
      "--------------------------------------------------------------------------------\n",
      "最近 武漢肺炎 大爆發 , 應該要 勤洗手\n",
      "武漢肺炎\n",
      ", 應該要 勤洗手\n",
      "最近 武漢肺炎 大爆發 ,\n",
      "--------------------------------------------------------------------------------\n",
      "最近武漢肺炎大爆發,應該要勤洗手、多消毒、多運動,或是買一台Switch\n",
      "['最近武漢肺炎大爆發', '應該要勤洗手、多消毒、多運動', '或是買一台Switch']\n",
      "['最近武漢肺炎大爆發,應該要勤洗手', '多消毒', '多運動,或是買一台Switch']\n",
      "this-is-a-book\n",
      "['this', 'is', 'a', 'book']\n",
      "--------------------------------------------------------------------------------\n",
      "['this', 'is', 'a', 'book']\n",
      "<class 'list'>\n",
      "this,is,a,book\n",
      "this____is____a____book\n",
      "最近武漢肺炎大爆發 !!! 應該要勤洗手、多消毒、多運動 !!! 或是買一台Switch\n",
      "--------------------------------------------------------------------------------\n",
      "     最近 武漢肺炎 大爆發 , 應該要 勤洗手         \n",
      "最近 武漢肺炎 大爆發 , 應該要 勤洗手\n"
     ]
    }
   ],
   "source": [
    "### .format \n",
    "\n",
    "name1 = \"Leo\"\n",
    "msg1  = \"Hi\"\n",
    "\n",
    "print( \"{} , says {}\".format(name1,msg1)   )\n",
    "\n",
    "day = \"星期日\"\n",
    "\n",
    "\n",
    "print(\"今天星期六\")\n",
    "print( \"今天{}\".format(day) )\n",
    "\n",
    "sentence = \"最近 {} 大爆發 , 應該要 {}\"\n",
    "\n",
    "print(sentence.format(\"武漢肺炎\",\"勤洗手\"))\n",
    "print(sentence.format(\"123\",\"多喝酒\"))\n",
    "\n",
    "print(\"-\"*80)\n",
    "\n",
    "### [:]\n",
    "sentence2 = sentence.format(\"武漢肺炎\",\"勤洗手\")\n",
    "\n",
    "print(sentence2)\n",
    "print(sentence2[3:7])\n",
    "print(sentence2[12:])\n",
    "print(sentence2[:13])\n",
    "\n",
    "print(\"-\"*80)\n",
    "\n",
    "### .split\n",
    "sentence3 = \"最近武漢肺炎大爆發,應該要勤洗手、多消毒、多運動,或是買一台Switch\"\n",
    "\n",
    "print(sentence3)\n",
    "print( sentence3.split(\",\") )\n",
    "print( sentence3.split(\"、\") )\n",
    "\n",
    "sentence4 = \"this-is-a-book\"\n",
    "print(sentence4)\n",
    "print( sentence4.split(\"-\") )\n",
    "\n",
    "print(\"-\"*80)\n",
    "\n",
    "\n",
    "### .join\n",
    "\n",
    "data = sentence4.split(\"-\")\n",
    "print(data)\n",
    "print( type(data) )\n",
    "\n",
    "print( \",\".join(data) )\n",
    "print( \"____\".join(data) )\n",
    "\n",
    "print( \" !!! \".join( sentence3.split(\",\") )  )\n",
    "\n",
    "print(\"-\"*80)\n",
    "\n",
    "\n",
    "### .strip()\n",
    "\n",
    "sentence5 = \"     最近 武漢肺炎 大爆發 , 應該要 勤洗手         \"\n",
    "print(sentence5)\n",
    "print( sentence5.strip() )"
   ]
  },
  {
   "cell_type": "code",
   "execution_count": 40,
   "metadata": {},
   "outputs": [
    {
     "name": "stdout",
     "output_type": "stream",
     "text": [
      "b'a'\n"
     ]
    }
   ],
   "source": []
  }
 ],
 "metadata": {
  "kernelspec": {
   "display_name": "Python 3",
   "language": "python",
   "name": "python3"
  },
  "language_info": {
   "codemirror_mode": {
    "name": "ipython",
    "version": 3
   },
   "file_extension": ".py",
   "mimetype": "text/x-python",
   "name": "python",
   "nbconvert_exporter": "python",
   "pygments_lexer": "ipython3",
   "version": "3.7.4"
  }
 },
 "nbformat": 4,
 "nbformat_minor": 2
}
