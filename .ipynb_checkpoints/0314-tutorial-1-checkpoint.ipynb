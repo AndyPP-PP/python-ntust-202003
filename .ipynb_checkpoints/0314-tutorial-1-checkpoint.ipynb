{
 "cells": [
  {
   "cell_type": "code",
   "execution_count": 16,
   "metadata": {},
   "outputs": [
    {
     "name": "stdout",
     "output_type": "stream",
     "text": [
      "--------------------------------------------------------------------------------\n",
      "--------------------------------------------------------------------------------\n",
      "--------------------------------------------------------------------------------\n",
      "請輸入數字:51\n",
      "strong\n"
     ]
    }
   ],
   "source": [
    "### 小試身手\n",
    "# 1.  試寫一程式 , 提示使用者輸入長&寬 ,   \n",
    "#      計算此矩形的面積及周長\n",
    "# length = float(input(\"請輸入長度:\"))\n",
    "# width  = float(input(\"請輸入寬度:\"))\n",
    "\n",
    "# print(\"Area :\",length*width)\n",
    "# print(\"Perimeter :\",(length+width)*2)\n",
    "\n",
    "print(\"-\"*80)\n",
    "\n",
    "# 2.  試寫一程式 ,  將此字串取代成不同的新字串 \n",
    "#       1)  “this is a book.”  -->  “this is a lion.”\n",
    "#       2)  “this is a book.”  -->  “**** !! a book.”\n",
    "#       3)  “this is a book.”   -->  “this is an apple.”\n",
    "# message = \"this is a book.\"\n",
    "# print(message.replace(\"book\",\"lion\"))\n",
    "# print(message.replace(\"this\",\"****\").replace(\"is\",\"!!\"))\n",
    "# print(message.replace(\"a\",\"an\").replace(\"book\",\"apple\"))\n",
    "# # print(message.replace(\"book\",\"apple\").replace(\"a\",\"an\"))\n",
    "\n",
    "\n",
    "print(\"-\"*80)\n",
    "\n",
    "# 3.  令 a=“Jeff” , b=“Leo” , c=“Jonny” , 並打印出\n",
    "#       “Jeff is good , Leo is young , and Jonny is single…”\n",
    "#       當 a 換成 “Steve” , c = “Dave” 時, 需打印出\n",
    "#       “Steve is good , Leo is young , and Dave is single…”\n",
    "\n",
    "# a = \"Steve\"\n",
    "# b = \"Leo\"\n",
    "# c = \"Dave\"\n",
    "# print( \"{} is good , {} is young , and {} is single…\".format(a,b,c)  )\n",
    "# print( \"{name1} is good , {name2} is young , and {name3} is single…\".format(name2=a , name3 = b , name1 = c)  )\n",
    "\n",
    "print(\"-\"*80)\n",
    "\n",
    "\n",
    "# 4. 試寫一程式 , 請使用者輸入一數字 , 並按規則顯示下列訊息 :\n",
    "#         0 <= n < 30  :  young\n",
    "#        30<= n < 60  :  strong \n",
    "#        n >= 60      :  old\n",
    "#        n < 0         :  ‘n’ must be larger than 0 \n",
    "\n",
    "\n",
    "num = int(input(\"請輸入數字:\"))\n",
    "\n",
    "\n",
    "if num >=0 and num <30:\n",
    "    print(\"young\")\n",
    "elif num>=30 and num <60:\n",
    "    print(\"strong\")\n",
    "elif num>=60 :\n",
    "    print(\"old\")\n",
    "else:\n",
    "    print(\"n must be larger than 0\")"
   ]
  },
  {
   "cell_type": "code",
   "execution_count": null,
   "metadata": {},
   "outputs": [],
   "source": [
    "# int / float / bool\n",
    "# str & 常見用法\n",
    "# print / type / input\n",
    "# 運算子\n",
    "# if-else \n",
    "# list [1,2,3,4,5]\n",
    "# dict "
   ]
  },
  {
   "cell_type": "code",
   "execution_count": 18,
   "metadata": {},
   "outputs": [
    {
     "name": "stdout",
     "output_type": "stream",
     "text": [
      "Sum : 467\n",
      "Avg : 77.83333333333333\n"
     ]
    }
   ],
   "source": [
    "### list\n",
    "scores1 = [90,87,65,100,80]\n",
    "\n",
    "scores1.append(45)\n",
    "\n",
    "print(\"Sum :\",sum(scores1))\n",
    "print(\"Avg :\",sum(scores1)/len(scores1))"
   ]
  },
  {
   "cell_type": "code",
   "execution_count": 36,
   "metadata": {},
   "outputs": [
    {
     "name": "stdout",
     "output_type": "stream",
     "text": [
      "{'Jeff': 95, 'Leo': 87, 'Keven': 65, 'Elle': 100, 'Jenny': 80, 'Audrey': 75}\n",
      "<class 'dict'>\n",
      "False\n",
      "True\n",
      "dict_keys(['Jeff', 'Leo', 'Keven', 'Elle', 'Jenny', 'Audrey'])\n",
      "<class 'dict_keys'>\n",
      "['Jeff', 'Leo', 'Keven', 'Elle', 'Jenny', 'Audrey']\n",
      "dict_values([95, 87, 65, 100, 80, 75])\n",
      "[95, 87, 65, 100, 80, 75]\n",
      "Sum : 502\n",
      "Avg : 83.66666666666667\n",
      "Sum : 502\n",
      "Avg : 83.66666666666667\n"
     ]
    }
   ],
   "source": [
    "### dict \n",
    "scores2 = {\n",
    "    \"Jeff\"  : 90 ,\n",
    "    \"Leo\"   : 87 , \n",
    "    \"Keven\" : 65 , \n",
    "    \"Elle\"  : 100 , \n",
    "    \"Jenny\" : 80 , \n",
    "}\n",
    "\n",
    "# 修改\n",
    "scores2[\"Jeff\"] = 95\n",
    "\n",
    "# 新增\n",
    "scores2[\"Audrey\"] = 75\n",
    "\n",
    "print(scores2)\n",
    "print(type(scores2))\n",
    "\n",
    "# in \n",
    "print(\"Bob\"  in scores2)\n",
    "print(\"Jeff\" in scores2)\n",
    "\n",
    "# keys\n",
    "print(scores2.keys())\n",
    "print(type(scores2.keys()))\n",
    "print(list(scores2.keys()))\n",
    "\n",
    "\n",
    "# values\n",
    "print(scores2.values())\n",
    "print(list(scores2.values()))\n",
    "\n",
    "score2_list = list(scores2.values())\n",
    "print(\"Sum :\",sum(score2_list))\n",
    "print(\"Avg :\",sum(score2_list)/len(score2_list))\n",
    "\n",
    "print(\"Sum :\", sum(scores2.values()))\n",
    "print(\"Avg :\", sum(scores2.values())/len(scores2))"
   ]
  },
  {
   "cell_type": "code",
   "execution_count": 47,
   "metadata": {},
   "outputs": [
    {
     "name": "stdout",
     "output_type": "stream",
     "text": [
      "Data1:\n",
      "True\n",
      "False\n",
      "True\n",
      "False\n",
      "--------------------------------------------------------------------------------\n",
      "Data2:\n",
      "True\n",
      "False\n",
      "False\n",
      "False\n",
      "--------------------------------------------------------------------------------\n",
      "Data3:\n",
      "True\n",
      "True\n",
      "False\n",
      "True\n"
     ]
    }
   ],
   "source": [
    "### 關係運算子 in\n",
    "data1 = [1,2,3,4,5,\"a\",\"b\",\"c\",[\"abc\",\"name\"],{\"name\":\"Jeff\",\"age\":18}]\n",
    "data2 = {\n",
    "    \"Jeff\":90,\n",
    "    \"Leo\":100,\n",
    "    \"Elle\":88\n",
    "}\n",
    "data3 = \"this is a book\"\n",
    "\n",
    "print(\"Data1:\")\n",
    "print(\"a\" in data1)\n",
    "print(\"p\" in data1)\n",
    "print( [\"abc\",\"name\"] in data1)\n",
    "print( [\"abc\",\"number\"] in data1)\n",
    "\n",
    "print(\"-\"*80)\n",
    "\n",
    "print(\"Data2:\")\n",
    "print(\"Jeff\" in data2)\n",
    "print(\"Leq\" in data2)\n",
    "print(90 in data2)\n",
    "print(88 in data2)\n",
    "\n",
    "print(\"-\"*80)\n",
    "\n",
    "print(\"Data3:\")\n",
    "print(\"this\" in data3)\n",
    "print(\"s a\"  in data3)\n",
    "print(\"bqqk\" in data3)\n",
    "print(\"b\"    in data3)"
   ]
  },
  {
   "cell_type": "code",
   "execution_count": null,
   "metadata": {},
   "outputs": [],
   "source": [
    "\n",
    "\n"
   ]
  },
  {
   "cell_type": "code",
   "execution_count": null,
   "metadata": {},
   "outputs": [],
   "source": []
  },
  {
   "cell_type": "code",
   "execution_count": null,
   "metadata": {},
   "outputs": [],
   "source": []
  },
  {
   "cell_type": "code",
   "execution_count": null,
   "metadata": {},
   "outputs": [],
   "source": []
  },
  {
   "cell_type": "code",
   "execution_count": null,
   "metadata": {},
   "outputs": [],
   "source": []
  },
  {
   "cell_type": "code",
   "execution_count": null,
   "metadata": {},
   "outputs": [],
   "source": []
  }
 ],
 "metadata": {
  "kernelspec": {
   "display_name": "Python 3",
   "language": "python",
   "name": "python3"
  },
  "language_info": {
   "codemirror_mode": {
    "name": "ipython",
    "version": 3
   },
   "file_extension": ".py",
   "mimetype": "text/x-python",
   "name": "python",
   "nbconvert_exporter": "python",
   "pygments_lexer": "ipython3",
   "version": "3.7.4"
  }
 },
 "nbformat": 4,
 "nbformat_minor": 2
}
