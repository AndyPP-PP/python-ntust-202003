{
 "cells": [
  {
   "cell_type": "code",
   "execution_count": 3,
   "metadata": {},
   "outputs": [
    {
     "name": "stdout",
     "output_type": "stream",
     "text": [
      "Leo Hello~~~\n",
      "L\n",
      "e\n",
      "o\n",
      "Hello~\n",
      "ell\n",
      "--------------------------------------------------------------------------------\n",
      "LeoHello~~~\n",
      "Leo Hello~~~\n",
      "Good afternoon\n"
     ]
    }
   ],
   "source": [
    "### 資料型別-2\n",
    "\n",
    "## str\n",
    "\n",
    "name2 = \"Leo\"\n",
    "message2 = \"Hello~~~\"\n",
    "message3 = 'Good afternoon' \n",
    "\n",
    "print(name2,message2)\n",
    "\n",
    "# index\n",
    "print( name2[0] )\n",
    "print( name2[1] )\n",
    "print( name2[2] )\n",
    "\n",
    "print( message2[0:6] )\n",
    "print( message2[1:4] )\n",
    "\n",
    "print(\"-\"*80)\n",
    "\n",
    "# + \n",
    "print( name2 + message2 )\n",
    "print( name2 + \" \" + message2)\n",
    "\n",
    "print(message3)"
   ]
  },
  {
   "cell_type": "code",
   "execution_count": 18,
   "metadata": {},
   "outputs": [
    {
     "name": "stdout",
     "output_type": "stream",
     "text": [
      "Leo , says Hi\n",
      "今天星期六\n",
      "今天星期日\n",
      "最近 武漢肺炎 大爆發 , 應該要 勤洗手\n",
      "最近 123 大爆發 , 應該要 多喝酒\n",
      "--------------------------------------------------------------------------------\n",
      "最近 武漢肺炎 大爆發 , 應該要 勤洗手\n",
      "武漢肺炎\n",
      ", 應該要 勤洗手\n",
      "最近 武漢肺炎 大爆發 ,\n"
     ]
    }
   ],
   "source": [
    "### .format \n",
    "\n",
    "name1 = \"Leo\"\n",
    "msg1  = \"Hi\"\n",
    "\n",
    "print( \"{} , says {}\".format(name1,msg1)   )\n",
    "\n",
    "day = \"星期日\"\n",
    "\n",
    "\n",
    "print(\"今天星期六\")\n",
    "print( \"今天{}\".format(day) )\n",
    "\n",
    "sentence = \"最近 {} 大爆發 , 應該要 {}\"\n",
    "\n",
    "print(sentence.format(\"武漢肺炎\",\"勤洗手\"))\n",
    "print(sentence.format(\"123\",\"多喝酒\"))\n",
    "\n",
    "print(\"-\"*80)\n",
    "\n",
    "### [:]\n",
    "sentence2 = sentence.format(\"武漢肺炎\",\"勤洗手\")\n",
    "\n",
    "print(sentence2)\n",
    "print(sentence2[3:7])\n",
    "print(sentence2[12:])\n",
    "print(sentence2[:13])"
   ]
  }
 ],
 "metadata": {
  "kernelspec": {
   "display_name": "Python 3",
   "language": "python",
   "name": "python3"
  },
  "language_info": {
   "codemirror_mode": {
    "name": "ipython",
    "version": 3
   },
   "file_extension": ".py",
   "mimetype": "text/x-python",
   "name": "python",
   "nbconvert_exporter": "python",
   "pygments_lexer": "ipython3",
   "version": "3.7.4"
  }
 },
 "nbformat": 4,
 "nbformat_minor": 2
}
