{
 "cells": [
  {
   "cell_type": "code",
   "execution_count": 3,
   "metadata": {},
   "outputs": [
    {
     "name": "stdout",
     "output_type": "stream",
     "text": [
      "Leo Hello~~~\n",
      "L\n",
      "e\n",
      "o\n",
      "Hello~\n",
      "ell\n",
      "--------------------------------------------------------------------------------\n",
      "LeoHello~~~\n",
      "Leo Hello~~~\n",
      "Good afternoon\n"
     ]
    }
   ],
   "source": [
    "### 資料型別-2\n",
    "\n",
    "## str\n",
    "\n",
    "name2 = \"Leo\"\n",
    "message2 = \"Hello~~~\"\n",
    "message3 = 'Good afternoon' \n",
    "\n",
    "print(name2,message2)\n",
    "\n",
    "# index\n",
    "print( name2[0] )\n",
    "print( name2[1] )\n",
    "print( name2[2] )\n",
    "\n",
    "print( message2[0:6] )\n",
    "print( message2[1:4] )\n",
    "\n",
    "print(\"-\"*80)\n",
    "\n",
    "# + \n",
    "print( name2 + message2 )\n",
    "print( name2 + \" \" + message2)\n",
    "\n",
    "print(message3)"
   ]
  },
  {
   "cell_type": "code",
   "execution_count": 54,
   "metadata": {},
   "outputs": [
    {
     "name": "stdout",
     "output_type": "stream",
     "text": [
      "Leo , says Hi\n",
      "今天星期六\n",
      "今天星期日\n",
      "最近 武漢肺炎 大爆發 , 應該要 勤洗手\n",
      "最近 123 大爆發 , 應該要 多喝酒\n",
      "--------------------------------------------------------------------------------\n",
      "最近 武漢肺炎 大爆發 , 應該要 勤洗手\n",
      "武漢肺炎\n",
      ", 應該要 勤洗手\n",
      "最近 武漢肺炎 大爆發 ,\n",
      "--------------------------------------------------------------------------------\n",
      "最近武漢肺炎大爆發,應該要勤洗手、多消毒、多運動,或是買一台Switch\n",
      "['最近武漢肺炎大爆發', '應該要勤洗手、多消毒、多運動', '或是買一台Switch']\n",
      "['最近武漢肺炎大爆發,應該要勤洗手', '多消毒', '多運動,或是買一台Switch']\n",
      "this-is-a-book\n",
      "['this', 'is', 'a', 'book']\n",
      "--------------------------------------------------------------------------------\n",
      "['this', 'is', 'a', 'book']\n",
      "<class 'list'>\n",
      "this,is,a,book\n",
      "this____is____a____book\n",
      "最近武漢肺炎大爆發 !!! 應該要勤洗手、多消毒、多運動 !!! 或是買一台Switch\n",
      "--------------------------------------------------------------------------------\n",
      "     最近 武漢肺炎 大爆發 , 應該要 勤洗手         \n",
      "最近 武漢肺炎 大爆發 , 應該要 勤洗手\n"
     ]
    }
   ],
   "source": [
    "### 常用功能\n",
    "\n",
    "# .format()\n",
    "\n",
    "name1 = \"Leo\"\n",
    "msg1  = \"Hi\"\n",
    "\n",
    "print( \"{} , says {}\".format(name1,msg1)   )\n",
    "\n",
    "day = \"星期日\"\n",
    "\n",
    "\n",
    "print(\"今天星期六\")\n",
    "print( \"今天{}\".format(day) )\n",
    "\n",
    "sentence = \"最近 {} 大爆發 , 應該要 {}\"\n",
    "\n",
    "print(sentence.format(\"武漢肺炎\",\"勤洗手\"))\n",
    "print(sentence.format(\"123\",\"多喝酒\"))\n",
    "\n",
    "print(\"-\"*80)\n",
    "\n",
    "# [:]\n",
    "sentence2 = sentence.format(\"武漢肺炎\",\"勤洗手\")\n",
    "\n",
    "print(sentence2)\n",
    "print(sentence2[3:7])\n",
    "print(sentence2[12:])\n",
    "print(sentence2[:13])\n",
    "\n",
    "print(\"-\"*80)\n",
    "\n",
    "# .split()\n",
    "sentence3 = \"最近武漢肺炎大爆發,應該要勤洗手、多消毒、多運動,或是買一台Switch\"\n",
    "\n",
    "print(sentence3)\n",
    "print( sentence3.split(\",\") )\n",
    "print( sentence3.split(\"、\") )\n",
    "\n",
    "sentence4 = \"this-is-a-book\"\n",
    "print(sentence4)\n",
    "print( sentence4.split(\"-\") )\n",
    "\n",
    "print(\"-\"*80)\n",
    "\n",
    "\n",
    "# .join\n",
    "\n",
    "data = sentence4.split(\"-\")\n",
    "print(data)\n",
    "print( type(data) )\n",
    "\n",
    "print( \",\".join(data) )\n",
    "print( \"____\".join(data) )\n",
    "\n",
    "print( \" !!! \".join( sentence3.split(\",\") )  )\n",
    "\n",
    "print(\"-\"*80)\n",
    "\n",
    "\n",
    "# .strip()\n",
    "\n",
    "sentence5 = \"     最近 武漢肺炎 大爆發 , 應該要 勤洗手         \"\n",
    "print(sentence5)\n",
    "print( sentence5.strip() )"
   ]
  },
  {
   "cell_type": "code",
   "execution_count": 84,
   "metadata": {},
   "outputs": [
    {
     "name": "stdout",
     "output_type": "stream",
     "text": [
      "True\n",
      "False\n",
      "False\n",
      "False\n",
      "--------------------------------------------------------------------------------\n",
      "最近新冠肺炎大爆發 , 應該要勤洗手、多消毒、多運動 , 或是買一台Switch\n",
      "最近武漢肺炎大爆發 , 應該要勤洗手、多消毒、多運動 , 或是買一台Switch\n",
      "最近武漢肺炎大爆發 , 應該要_ _ _、_ _ _、_ _ _ , 或是買一台Switch\n",
      "--------------------------------------------------------------------------------\n",
      "2\n",
      "16\n",
      "18\n",
      "-1\n"
     ]
    }
   ],
   "source": [
    "sentence6 = \"最近武漢肺炎大爆發 , 應該要勤洗手、多消毒、多運動 , 或是買一台Switch\"\n",
    "sentence7 = \"Today is Saturday.\"\n",
    "\n",
    "# .startswith()\n",
    "print(sentence6.startswith(\"最近\"))\n",
    "print(sentence6.startswith(\"洗手\"))\n",
    "print(sentence7.startswith(\"is\"))\n",
    "print(sentence7.startswith(\"Todas\"))\n",
    "\n",
    "\n",
    "print(\"-\"*80)\n",
    "\n",
    "# .replace()\n",
    "print(sentence6.replace(\"武漢肺炎\",\"新冠肺炎\"))\n",
    "print(sentence6.replace(\"戴口罩\",\"---\"))\n",
    "print( sentence6.replace(\"勤洗手\",\"_ _ _\").replace(\"多消毒\",\"_ _ _\").replace(\"多運動\",\"_ _ _\") )\n",
    "\n",
    "\n",
    "print(\"-\"*80)\n",
    "\n",
    "# .find()\n",
    "print(sentence6.find(\"武漢肺炎\"))\n",
    "print(sentence6.find(\"洗手\"))\n",
    "print(sentence6.find(\"、\"))\n",
    "print(sentence6.find(\"QQ\"))"
   ]
  },
  {
   "cell_type": "code",
   "execution_count": 114,
   "metadata": {},
   "outputs": [
    {
     "name": "stdout",
     "output_type": "stream",
     "text": [
      "17\n",
      "7\n",
      "60\n",
      "2.4\n",
      "248832\n",
      "2\n",
      "1.23\n",
      "1\n",
      "23\n",
      "--------------------------------------------------------------------------------\n",
      "JeffLeo\n",
      "JeffJeffJeffJeffJeffJeffJeffJeffJeffJeffJeffJeffJeffJeffJeffJeffJeffJeffJeffJeffJeffJeffJeffJeffJeffJeffJeffJeffJeffJeff\n",
      "Jeff Jeff Jeff Jeff Jeff Jeff Jeff Jeff Jeff Jeff Jeff Jeff Jeff Jeff Jeff Jeff Jeff Jeff Jeff Jeff Jeff Jeff Jeff Jeff Jeff Jeff Jeff Jeff Jeff Jeff \n",
      "--------------------------------------------------------------------------------\n",
      "Jeff , Leo\n",
      "Jeff , Leo\n",
      "Jeff , Leo\n"
     ]
    }
   ],
   "source": [
    "### 算術運算子\n",
    "\n",
    "## int , float , complex\n",
    "a = 12\n",
    "b = 5\n",
    "\n",
    "print(a+b)\n",
    "print(a-b)\n",
    "print(a*b)\n",
    "print(a/b)\n",
    "\n",
    "print(a**5)\n",
    "print(a // b)\n",
    "print(123 /  100)\n",
    "print(123 // 100)\n",
    "print(123 % 100)\n",
    "\n",
    "print(\"-\"*80)\n",
    "\n",
    "## str \n",
    "name1 = \"Jeff\"\n",
    "name2 = \"Leo\"\n",
    "\n",
    "print(name1+name2)\n",
    "print(name1*30)\n",
    "\n",
    "print((name1+\" \")*30)\n",
    "\n",
    "print(\"-\"*80)\n",
    "\n",
    "print( name1 , \",\" , name2 )\n",
    "\n",
    "## .format  / . join \n",
    "# print( \"Jeff , Leo\" )\n",
    "\n",
    "print( \"{} , {}\".format(name1,name2) )\n",
    "\n",
    "print( \" , \".join([name1,name2]) )"
   ]
  },
  {
   "cell_type": "code",
   "execution_count": 110,
   "metadata": {},
   "outputs": [
    {
     "name": "stdout",
     "output_type": "stream",
     "text": [
      "ahellobhellochellod\n",
      "武hello漢hello肺hello炎\n"
     ]
    }
   ],
   "source": [
    "n1 = \"book\"\n",
    "n2 = \"apple\"\n",
    "n3 = \"cat\"\n",
    "n4 = \"dog\"\n",
    "\n",
    "n5 = \"hello\"\n",
    "\n",
    "# print( \",\".join([n1,n2,n3,n4]) )\n",
    "# print( \",\".join([n1,n2]) )\n",
    "\n",
    "print( n5.join(\"abcd\"))\n",
    "# \"abcd\" --> [\"a\",\"b\",\"c\",\"d\"]\n",
    "\n",
    "print( n5.join(\"武漢肺炎\"))"
   ]
  },
  {
   "cell_type": "code",
   "execution_count": 106,
   "metadata": {},
   "outputs": [
    {
     "name": "stdout",
     "output_type": "stream",
     "text": [
      "['book', 'apple', 'cat', 'dog']\n",
      "<class 'list'>\n"
     ]
    }
   ],
   "source": [
    "demo_list = [n1,n2,n3,n4]\n",
    "\n",
    "print(demo_list)\n",
    "print(type(demo_list))"
   ]
  },
  {
   "cell_type": "code",
   "execution_count": 128,
   "metadata": {},
   "outputs": [
    {
     "name": "stdout",
     "output_type": "stream",
     "text": [
      "False\n",
      "True\n",
      "True\n",
      "True\n",
      "True\n",
      "--------------------------------------------------------------------------------\n",
      "False\n",
      "True\n",
      "True\n",
      "True\n",
      "False\n",
      "False\n"
     ]
    }
   ],
   "source": [
    "### 關係運算子\n",
    "\n",
    "## > , < , == , !=\n",
    "a = 12\n",
    "b = 34\n",
    "c = 4\n",
    "d = 20\n",
    "\n",
    "print(a>b)\n",
    "print(c*5 == d)\n",
    "print((a+20)>(c+d))\n",
    "print( a/3 == c)\n",
    "print( a/3 != d)\n",
    "\n",
    "print(\"-\"*80)\n",
    "\n",
    "### 邏輯運算子\n",
    "\n",
    "## and , or , not \n",
    "print( (a>0) and (b<0) )\n",
    "print( (d//5 == c) or (b // a == 2))\n",
    "print( (d**2 >1000) or (c > 0))\n",
    "\n",
    "print( not (d**2 >1000))\n",
    "\n",
    "print( not (24 % 2 == 0))\n",
    "print( 24 % 2 != 0 )"
   ]
  },
  {
   "cell_type": "code",
   "execution_count": 141,
   "metadata": {},
   "outputs": [
    {
     "name": "stdout",
     "output_type": "stream",
     "text": [
      "請輸入數字:9999\n",
      "Area 3\n"
     ]
    }
   ],
   "source": [
    "### 流程控制 #1\n",
    "# num = int( input(\"請輸入數字:\") )\n",
    "\n",
    "# # print(num)\n",
    "# # print(type(num))\n",
    "\n",
    "# if num>0:\n",
    "#     print(\"Area 1\")\n",
    "#     print(\"Positive!!!!\")\n",
    "#     print(\"++++++\")\n",
    "\n",
    "# else:\n",
    "#     print(\"Area 2\")\n",
    "#     print(\"Negative!!!!\")\n",
    "#     print(\"------\")\n",
    "#     print(\"test-1\")\n",
    "    \n",
    "# print(\"test-2\")\n",
    "\n",
    "# print(\"-\"*100)\n",
    "\n",
    "# num2 = int(input(\"請輸入1-100的號碼:\"))\n",
    "\n",
    "\n",
    "# if num2 % 3 == 0 :\n",
    "#     print(\"A組\")\n",
    "# elif num2 %3 == 1 :\n",
    "#     print(\"B組\")\n",
    "# elif num2 %3 == 2 :\n",
    "#     print(\"C組\")\n",
    "\n",
    "\n",
    "# <0 , 0-100 , >=100 \n",
    "\n",
    "num3 = int(input(\"請輸入數字:\"))\n",
    "\n",
    "if num3 <0:\n",
    "    print(\"Area 1\")\n",
    "elif num3 >=0 and num3 <100 :\n",
    "    print(\"Area 2\")\n",
    "else:\n",
    "    print(\"Area 3\")\n"
   ]
  },
  {
   "cell_type": "code",
   "execution_count": null,
   "metadata": {},
   "outputs": [],
   "source": []
  },
  {
   "cell_type": "code",
   "execution_count": null,
   "metadata": {},
   "outputs": [],
   "source": []
  },
  {
   "cell_type": "code",
   "execution_count": null,
   "metadata": {},
   "outputs": [],
   "source": []
  }
 ],
 "metadata": {
  "kernelspec": {
   "display_name": "Python 3",
   "language": "python",
   "name": "python3"
  },
  "language_info": {
   "codemirror_mode": {
    "name": "ipython",
    "version": 3
   },
   "file_extension": ".py",
   "mimetype": "text/x-python",
   "name": "python",
   "nbconvert_exporter": "python",
   "pygments_lexer": "ipython3",
   "version": "3.7.4"
  }
 },
 "nbformat": 4,
 "nbformat_minor": 2
}
