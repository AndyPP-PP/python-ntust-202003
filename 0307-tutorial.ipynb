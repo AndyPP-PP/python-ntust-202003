{
 "cells": [
  {
   "cell_type": "code",
   "execution_count": 1,
   "metadata": {},
   "outputs": [
    {
     "name": "stdout",
     "output_type": "stream",
     "text": [
      "Hello world!\n"
     ]
    }
   ],
   "source": [
    "print(\"Hello world!\")"
   ]
  },
  {
   "cell_type": "code",
   "execution_count": 3,
   "metadata": {},
   "outputs": [
    {
     "name": "stdout",
     "output_type": "stream",
     "text": [
      "29\n",
      "-5\n"
     ]
    },
    {
     "ename": "NameError",
     "evalue": "name 'c' is not defined",
     "output_type": "error",
     "traceback": [
      "\u001b[1;31m---------------------------------------------------------------------------\u001b[0m",
      "\u001b[1;31mNameError\u001b[0m                                 Traceback (most recent call last)",
      "\u001b[1;32m<ipython-input-3-ef36c2d4c930>\u001b[0m in \u001b[0;36m<module>\u001b[1;34m\u001b[0m\n\u001b[0;32m      6\u001b[0m \u001b[0mprint\u001b[0m\u001b[1;33m(\u001b[0m\u001b[0ma\u001b[0m\u001b[1;33m+\u001b[0m\u001b[0mb\u001b[0m\u001b[1;33m)\u001b[0m\u001b[1;33m\u001b[0m\u001b[1;33m\u001b[0m\u001b[0m\n\u001b[0;32m      7\u001b[0m \u001b[0mprint\u001b[0m\u001b[1;33m(\u001b[0m\u001b[0ma\u001b[0m\u001b[1;33m-\u001b[0m\u001b[0mb\u001b[0m\u001b[1;33m)\u001b[0m\u001b[1;33m\u001b[0m\u001b[1;33m\u001b[0m\u001b[0m\n\u001b[1;32m----> 8\u001b[1;33m \u001b[0mprint\u001b[0m\u001b[1;33m(\u001b[0m\u001b[0mc\u001b[0m\u001b[1;33m*\u001b[0m\u001b[1;36m2\u001b[0m\u001b[1;33m)\u001b[0m\u001b[1;33m\u001b[0m\u001b[1;33m\u001b[0m\u001b[0m\n\u001b[0m",
      "\u001b[1;31mNameError\u001b[0m: name 'c' is not defined"
     ]
    }
   ],
   "source": [
    "# 變數  (variable)\n",
    "# 值    (value)\n",
    "a = 12\n",
    "b = 17\n",
    "\n",
    "print(a+b)\n",
    "print(a-b)\n",
    "print(c*2)"
   ]
  },
  {
   "cell_type": "code",
   "execution_count": 6,
   "metadata": {},
   "outputs": [
    {
     "name": "stdout",
     "output_type": "stream",
     "text": [
      "246\n",
      "Hello\n",
      "True\n",
      "-2034\n"
     ]
    }
   ],
   "source": [
    "a = 123\n",
    "b = \"Hello\"\n",
    "c = True\n",
    "# d = true\n",
    "e = 234\n",
    "\n",
    "print(a*2)\n",
    "print(b)\n",
    "print(c)\n",
    "print(a*12+e*(-15))\n",
    "# print(d)"
   ]
  },
  {
   "cell_type": "code",
   "execution_count": 8,
   "metadata": {},
   "outputs": [
    {
     "name": "stdout",
     "output_type": "stream",
     "text": [
      "Jeff\n",
      "[80, 90, 97]\n",
      "234\n",
      "Leo\n",
      "[20, 25, 30]\n",
      "123\n"
     ]
    }
   ],
   "source": [
    "# n = \"Jeff\"   # 不好 \n",
    "\n",
    "### 底線式\n",
    "member_name    = \"Jeff\"  # 好的\n",
    "students_score = [80,90,97]   ## 陣列 (list)\n",
    "total_cases_count = 234 \n",
    "\n",
    "print(member_name)\n",
    "print(students_score)\n",
    "print(total_cases_count)\n",
    "\n",
    "### 駝峰式\n",
    "memberName = \"Leo\"\n",
    "studentsScore = [20,25,30]\n",
    "totalCasesCount = 123\n",
    "\n",
    "print(memberName)\n",
    "print(studentsScore)\n",
    "print(totalCasesCount)\n",
    "\n",
    "\n"
   ]
  },
  {
   "cell_type": "code",
   "execution_count": 17,
   "metadata": {},
   "outputs": [
    {
     "name": "stdout",
     "output_type": "stream",
     "text": [
      "57\n",
      "-7\n",
      "800\n",
      "0.78125\n",
      "--------------------------------------------------------------------------------\n",
      "5.2645\n",
      "6.6694045000000015\n",
      "1.4797456429580782\n",
      "--------------------------------------------------------------------------------\n",
      "(1+25j)\n",
      "(-102+35j)\n",
      "--------------------------------------------------------------------------------\n",
      "True\n",
      "False\n",
      "False\n",
      "True\n",
      "False\n",
      "True\n"
     ]
    }
   ],
   "source": [
    "### 資料型別\n",
    "\n",
    "# int\n",
    "a = 25\n",
    "b = 32\n",
    "\n",
    "print(a+b)\n",
    "print(a-b)\n",
    "print(a*b)\n",
    "print(a/b)\n",
    "\n",
    "print(\"-\"*80)\n",
    "\n",
    "# float \n",
    "c = 3.1415\n",
    "d = 2.123\n",
    "print(c+d)\n",
    "print(c*d)\n",
    "print(c/d)\n",
    "\n",
    "# 溢位\n",
    "# 1*0.5+0*0.25+1*0.125+0*0.0625+...\n",
    "\n",
    "print(\"-\"*80)\n",
    "\n",
    "# complex\n",
    "e = 2+5j\n",
    "f = -1+20j\n",
    "print(e+f)\n",
    "print(e*f)\n",
    "\n",
    "print(\"-\"*80)\n",
    "\n",
    "\n",
    "# bool \n",
    "g = True\n",
    "h = False\n",
    "\n",
    "print(g)\n",
    "print(h)\n",
    "\n",
    "print( g & h )\n",
    "print( g | h )\n",
    "\n",
    "print( g and h )\n",
    "print( g or h )"
   ]
  },
  {
   "cell_type": "code",
   "execution_count": null,
   "metadata": {},
   "outputs": [],
   "source": []
  },
  {
   "cell_type": "code",
   "execution_count": null,
   "metadata": {},
   "outputs": [],
   "source": []
  }
 ],
 "metadata": {
  "kernelspec": {
   "display_name": "Python 3",
   "language": "python",
   "name": "python3"
  },
  "language_info": {
   "codemirror_mode": {
    "name": "ipython",
    "version": 3
   },
   "file_extension": ".py",
   "mimetype": "text/x-python",
   "name": "python",
   "nbconvert_exporter": "python",
   "pygments_lexer": "ipython3",
   "version": "3.7.4"
  }
 },
 "nbformat": 4,
 "nbformat_minor": 2
}
